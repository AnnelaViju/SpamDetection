{
  "cells": [
    {
      "cell_type": "code",
      "execution_count": 1,
      "metadata": {
        "id": "32U6yoP7WnOr"
      },
      "outputs": [],
      "source": [
        "import numpy as np\n",
        "import pandas as pd"
      ]
    },
    {
      "cell_type": "code",
      "execution_count": 2,
      "metadata": {
        "id": "zFmGPqT432e6"
      },
      "outputs": [],
      "source": [
        "df=pd.read_csv(\"mail_data.csv\")"
      ]
    },
    {
      "cell_type": "code",
      "execution_count": 3,
      "metadata": {
        "colab": {
          "base_uri": "https://localhost:8080/",
          "height": 206
        },
        "id": "hO2zbG1aX4IS",
        "outputId": "b8b78552-609e-491c-a9a9-2f0223f665e9"
      },
      "outputs": [
        {
          "data": {
            "text/html": [
              "<div>\n",
              "<style scoped>\n",
              "    .dataframe tbody tr th:only-of-type {\n",
              "        vertical-align: middle;\n",
              "    }\n",
              "\n",
              "    .dataframe tbody tr th {\n",
              "        vertical-align: top;\n",
              "    }\n",
              "\n",
              "    .dataframe thead th {\n",
              "        text-align: right;\n",
              "    }\n",
              "</style>\n",
              "<table border=\"1\" class=\"dataframe\">\n",
              "  <thead>\n",
              "    <tr style=\"text-align: right;\">\n",
              "      <th></th>\n",
              "      <th>Category</th>\n",
              "      <th>Message</th>\n",
              "    </tr>\n",
              "  </thead>\n",
              "  <tbody>\n",
              "    <tr>\n",
              "      <th>4744</th>\n",
              "      <td>ham</td>\n",
              "      <td>I am in hospital da. . I will return home in e...</td>\n",
              "    </tr>\n",
              "    <tr>\n",
              "      <th>3252</th>\n",
              "      <td>ham</td>\n",
              "      <td>I‘ll leave around four, ok?</td>\n",
              "    </tr>\n",
              "    <tr>\n",
              "      <th>5532</th>\n",
              "      <td>ham</td>\n",
              "      <td>happened here while you were adventuring</td>\n",
              "    </tr>\n",
              "    <tr>\n",
              "      <th>2043</th>\n",
              "      <td>ham</td>\n",
              "      <td>Me not waking up until 4 in the afternoon, sup</td>\n",
              "    </tr>\n",
              "    <tr>\n",
              "      <th>1827</th>\n",
              "      <td>ham</td>\n",
              "      <td>Dude. What's up. How Teresa. Hope you have bee...</td>\n",
              "    </tr>\n",
              "  </tbody>\n",
              "</table>\n",
              "</div>"
            ],
            "text/plain": [
              "     Category                                            Message\n",
              "4744      ham  I am in hospital da. . I will return home in e...\n",
              "3252      ham                        I‘ll leave around four, ok?\n",
              "5532      ham           happened here while you were adventuring\n",
              "2043      ham     Me not waking up until 4 in the afternoon, sup\n",
              "1827      ham  Dude. What's up. How Teresa. Hope you have bee..."
            ]
          },
          "execution_count": 3,
          "metadata": {},
          "output_type": "execute_result"
        }
      ],
      "source": [
        "df.sample(5)"
      ]
    },
    {
      "cell_type": "code",
      "execution_count": 4,
      "metadata": {
        "colab": {
          "base_uri": "https://localhost:8080/"
        },
        "id": "x3tf0V5xYBPS",
        "outputId": "9c310b7b-afe4-479b-f627-adf1fe8c8676"
      },
      "outputs": [
        {
          "data": {
            "text/plain": [
              "(5572, 2)"
            ]
          },
          "execution_count": 4,
          "metadata": {},
          "output_type": "execute_result"
        }
      ],
      "source": [
        "df.shape"
      ]
    },
    {
      "cell_type": "code",
      "execution_count": 5,
      "metadata": {
        "colab": {
          "base_uri": "https://localhost:8080/"
        },
        "id": "S3iZpHSdYgZb",
        "outputId": "4943ea80-46e4-4ea8-884f-5ac775e91a36"
      },
      "outputs": [
        {
          "name": "stdout",
          "output_type": "stream",
          "text": [
            "<class 'pandas.core.frame.DataFrame'>\n",
            "RangeIndex: 5572 entries, 0 to 5571\n",
            "Data columns (total 2 columns):\n",
            " #   Column    Non-Null Count  Dtype \n",
            "---  ------    --------------  ----- \n",
            " 0   Category  5572 non-null   object\n",
            " 1   Message   5572 non-null   object\n",
            "dtypes: object(2)\n",
            "memory usage: 87.2+ KB\n"
          ]
        }
      ],
      "source": [
        "#1 data cleaning:\n",
        "df.info()"
      ]
    },
    {
      "cell_type": "code",
      "execution_count": 6,
      "metadata": {
        "id": "ZHZooVShZIWk"
      },
      "outputs": [],
      "source": [
        "df.rename(columns={'Category':'target', 'Message': 'text'}, inplace=True)\n"
      ]
    },
    {
      "cell_type": "code",
      "execution_count": 7,
      "metadata": {
        "colab": {
          "base_uri": "https://localhost:8080/",
          "height": 206
        },
        "id": "IdL1WUf8mgFI",
        "outputId": "7bc3c5ea-96ec-4679-eb31-5cd505bd6c49"
      },
      "outputs": [
        {
          "data": {
            "text/html": [
              "<div>\n",
              "<style scoped>\n",
              "    .dataframe tbody tr th:only-of-type {\n",
              "        vertical-align: middle;\n",
              "    }\n",
              "\n",
              "    .dataframe tbody tr th {\n",
              "        vertical-align: top;\n",
              "    }\n",
              "\n",
              "    .dataframe thead th {\n",
              "        text-align: right;\n",
              "    }\n",
              "</style>\n",
              "<table border=\"1\" class=\"dataframe\">\n",
              "  <thead>\n",
              "    <tr style=\"text-align: right;\">\n",
              "      <th></th>\n",
              "      <th>target</th>\n",
              "      <th>text</th>\n",
              "    </tr>\n",
              "  </thead>\n",
              "  <tbody>\n",
              "    <tr>\n",
              "      <th>4769</th>\n",
              "      <td>ham</td>\n",
              "      <td>I'm not sure if its still available though</td>\n",
              "    </tr>\n",
              "    <tr>\n",
              "      <th>1410</th>\n",
              "      <td>ham</td>\n",
              "      <td>Where at were hungry too</td>\n",
              "    </tr>\n",
              "    <tr>\n",
              "      <th>1883</th>\n",
              "      <td>ham</td>\n",
              "      <td>Sorry, I can't help you on this.</td>\n",
              "    </tr>\n",
              "    <tr>\n",
              "      <th>3145</th>\n",
              "      <td>ham</td>\n",
              "      <td>Haha I heard that, text me when you're around</td>\n",
              "    </tr>\n",
              "    <tr>\n",
              "      <th>2810</th>\n",
              "      <td>ham</td>\n",
              "      <td>Oh yeah I forgot. U can only take 2 out shoppi...</td>\n",
              "    </tr>\n",
              "  </tbody>\n",
              "</table>\n",
              "</div>"
            ],
            "text/plain": [
              "     target                                               text\n",
              "4769    ham         I'm not sure if its still available though\n",
              "1410    ham                           Where at were hungry too\n",
              "1883    ham                   Sorry, I can't help you on this.\n",
              "3145    ham      Haha I heard that, text me when you're around\n",
              "2810    ham  Oh yeah I forgot. U can only take 2 out shoppi..."
            ]
          },
          "execution_count": 7,
          "metadata": {},
          "output_type": "execute_result"
        }
      ],
      "source": [
        "df.sample(5)"
      ]
    },
    {
      "cell_type": "code",
      "execution_count": 8,
      "metadata": {
        "colab": {
          "base_uri": "https://localhost:8080/"
        },
        "id": "Sl5oWAgde2k7",
        "outputId": "3aab8fe9-1325-48cf-b711-60c5f8335550"
      },
      "outputs": [
        {
          "data": {
            "text/plain": [
              "target    0\n",
              "text      0\n",
              "dtype: int64"
            ]
          },
          "execution_count": 8,
          "metadata": {},
          "output_type": "execute_result"
        }
      ],
      "source": [
        "df.isnull().sum()"
      ]
    },
    {
      "cell_type": "code",
      "execution_count": 9,
      "metadata": {
        "colab": {
          "base_uri": "https://localhost:8080/"
        },
        "id": "dvE6O5FMe_0z",
        "outputId": "82328355-f4d5-4ba4-c9f5-dfd24c1c9cd4"
      },
      "outputs": [
        {
          "data": {
            "text/plain": [
              "415"
            ]
          },
          "execution_count": 9,
          "metadata": {},
          "output_type": "execute_result"
        }
      ],
      "source": [
        "df.duplicated().sum()"
      ]
    },
    {
      "cell_type": "code",
      "execution_count": 10,
      "metadata": {
        "id": "B7rRAZVVfFh8"
      },
      "outputs": [],
      "source": [
        "#removing duplicted values\n",
        "df=df.drop_duplicates(keep='first')"
      ]
    },
    {
      "cell_type": "code",
      "execution_count": 11,
      "metadata": {
        "colab": {
          "base_uri": "https://localhost:8080/"
        },
        "id": "1auJVKfOfXZk",
        "outputId": "e53fd35b-d887-44c4-f4c0-d2e8f26fb2c2"
      },
      "outputs": [
        {
          "data": {
            "text/plain": [
              "0"
            ]
          },
          "execution_count": 11,
          "metadata": {},
          "output_type": "execute_result"
        }
      ],
      "source": [
        "df.duplicated().sum()"
      ]
    },
    {
      "cell_type": "code",
      "execution_count": 12,
      "metadata": {
        "colab": {
          "base_uri": "https://localhost:8080/"
        },
        "id": "0uxQaRTifYrT",
        "outputId": "d7f76f39-84fe-472b-debf-3934c9171189"
      },
      "outputs": [
        {
          "data": {
            "text/plain": [
              "(5157, 2)"
            ]
          },
          "execution_count": 12,
          "metadata": {},
          "output_type": "execute_result"
        }
      ],
      "source": [
        "df.shape"
      ]
    },
    {
      "cell_type": "markdown",
      "metadata": {
        "id": "toGEyzigfjC6"
      },
      "source": [
        "EDA"
      ]
    },
    {
      "cell_type": "code",
      "execution_count": 13,
      "metadata": {
        "colab": {
          "base_uri": "https://localhost:8080/",
          "height": 206
        },
        "id": "4W_i_l0afkgq",
        "outputId": "7ba51c35-625d-46d2-f8a5-fdd52d45c808"
      },
      "outputs": [
        {
          "data": {
            "text/html": [
              "<div>\n",
              "<style scoped>\n",
              "    .dataframe tbody tr th:only-of-type {\n",
              "        vertical-align: middle;\n",
              "    }\n",
              "\n",
              "    .dataframe tbody tr th {\n",
              "        vertical-align: top;\n",
              "    }\n",
              "\n",
              "    .dataframe thead th {\n",
              "        text-align: right;\n",
              "    }\n",
              "</style>\n",
              "<table border=\"1\" class=\"dataframe\">\n",
              "  <thead>\n",
              "    <tr style=\"text-align: right;\">\n",
              "      <th></th>\n",
              "      <th>target</th>\n",
              "      <th>text</th>\n",
              "    </tr>\n",
              "  </thead>\n",
              "  <tbody>\n",
              "    <tr>\n",
              "      <th>0</th>\n",
              "      <td>ham</td>\n",
              "      <td>Go until jurong point, crazy.. Available only ...</td>\n",
              "    </tr>\n",
              "    <tr>\n",
              "      <th>1</th>\n",
              "      <td>ham</td>\n",
              "      <td>Ok lar... Joking wif u oni...</td>\n",
              "    </tr>\n",
              "    <tr>\n",
              "      <th>2</th>\n",
              "      <td>spam</td>\n",
              "      <td>Free entry in 2 a wkly comp to win FA Cup fina...</td>\n",
              "    </tr>\n",
              "    <tr>\n",
              "      <th>3</th>\n",
              "      <td>ham</td>\n",
              "      <td>U dun say so early hor... U c already then say...</td>\n",
              "    </tr>\n",
              "    <tr>\n",
              "      <th>4</th>\n",
              "      <td>ham</td>\n",
              "      <td>Nah I don't think he goes to usf, he lives aro...</td>\n",
              "    </tr>\n",
              "  </tbody>\n",
              "</table>\n",
              "</div>"
            ],
            "text/plain": [
              "  target                                               text\n",
              "0    ham  Go until jurong point, crazy.. Available only ...\n",
              "1    ham                      Ok lar... Joking wif u oni...\n",
              "2   spam  Free entry in 2 a wkly comp to win FA Cup fina...\n",
              "3    ham  U dun say so early hor... U c already then say...\n",
              "4    ham  Nah I don't think he goes to usf, he lives aro..."
            ]
          },
          "execution_count": 13,
          "metadata": {},
          "output_type": "execute_result"
        }
      ],
      "source": [
        "df.head()"
      ]
    },
    {
      "cell_type": "code",
      "execution_count": 14,
      "metadata": {
        "colab": {
          "base_uri": "https://localhost:8080/"
        },
        "id": "GFg5kSZmfp3K",
        "outputId": "fe94be6c-9c9b-4cd5-e401-1cdccdf8b766"
      },
      "outputs": [
        {
          "data": {
            "text/plain": [
              "ham     4516\n",
              "spam     641\n",
              "Name: target, dtype: int64"
            ]
          },
          "execution_count": 14,
          "metadata": {},
          "output_type": "execute_result"
        }
      ],
      "source": [
        "df['target'].value_counts()"
      ]
    },
    {
      "cell_type": "code",
      "execution_count": 15,
      "metadata": {
        "colab": {
          "base_uri": "https://localhost:8080/",
          "height": 406
        },
        "id": "w7z0etgZf-uk",
        "outputId": "227a6089-96de-47ce-f090-7063481993a4"
      },
      "outputs": [
        {
          "data": {
            "image/png": "[encoded data removed]",
            "text/plain": [
              "<Figure size 640x480 with 1 Axes>"
            ]
          },
          "metadata": {},
          "output_type": "display_data"
        }
      ],
      "source": [
        "import matplotlib.pyplot as plt\n",
        "plt.pie(df['target'].value_counts(), labels =['ham','spam'], autopct='%0.2f')\n",
        "plt.show()\n",
        "\n",
        "#unbalanced data"
      ]
    },
    {
      "cell_type": "code",
      "execution_count": 16,
      "metadata": {
        "colab": {
          "base_uri": "https://localhost:8080/"
        },
        "id": "BmlbcGQihjXm",
        "outputId": "4e72018f-cdee-49f5-cf18-96dedf2d6167"
      },
      "outputs": [
        {
          "data": {
            "text/plain": [
              "(5157, 2)"
            ]
          },
          "execution_count": 16,
          "metadata": {},
          "output_type": "execute_result"
        }
      ],
      "source": [
        "df.shape"
      ]
    },
    {
      "cell_type": "code",
      "execution_count": 17,
      "metadata": {
        "colab": {
          "base_uri": "https://localhost:8080/",
          "height": 206
        },
        "id": "dNB0Jt-rl4R0",
        "outputId": "751a14eb-fa69-4d2c-c201-4ab48fdbe9e7"
      },
      "outputs": [
        {
          "data": {
            "text/html": [
              "<div>\n",
              "<style scoped>\n",
              "    .dataframe tbody tr th:only-of-type {\n",
              "        vertical-align: middle;\n",
              "    }\n",
              "\n",
              "    .dataframe tbody tr th {\n",
              "        vertical-align: top;\n",
              "    }\n",
              "\n",
              "    .dataframe thead th {\n",
              "        text-align: right;\n",
              "    }\n",
              "</style>\n",
              "<table border=\"1\" class=\"dataframe\">\n",
              "  <thead>\n",
              "    <tr style=\"text-align: right;\">\n",
              "      <th></th>\n",
              "      <th>target</th>\n",
              "      <th>text</th>\n",
              "    </tr>\n",
              "  </thead>\n",
              "  <tbody>\n",
              "    <tr>\n",
              "      <th>0</th>\n",
              "      <td>ham</td>\n",
              "      <td>Go until jurong point, crazy.. Available only ...</td>\n",
              "    </tr>\n",
              "    <tr>\n",
              "      <th>1</th>\n",
              "      <td>ham</td>\n",
              "      <td>Ok lar... Joking wif u oni...</td>\n",
              "    </tr>\n",
              "    <tr>\n",
              "      <th>2</th>\n",
              "      <td>spam</td>\n",
              "      <td>Free entry in 2 a wkly comp to win FA Cup fina...</td>\n",
              "    </tr>\n",
              "    <tr>\n",
              "      <th>3</th>\n",
              "      <td>ham</td>\n",
              "      <td>U dun say so early hor... U c already then say...</td>\n",
              "    </tr>\n",
              "    <tr>\n",
              "      <th>4</th>\n",
              "      <td>ham</td>\n",
              "      <td>Nah I don't think he goes to usf, he lives aro...</td>\n",
              "    </tr>\n",
              "  </tbody>\n",
              "</table>\n",
              "</div>"
            ],
            "text/plain": [
              "  target                                               text\n",
              "0    ham  Go until jurong point, crazy.. Available only ...\n",
              "1    ham                      Ok lar... Joking wif u oni...\n",
              "2   spam  Free entry in 2 a wkly comp to win FA Cup fina...\n",
              "3    ham  U dun say so early hor... U c already then say...\n",
              "4    ham  Nah I don't think he goes to usf, he lives aro..."
            ]
          },
          "execution_count": 17,
          "metadata": {},
          "output_type": "execute_result"
        }
      ],
      "source": [
        "a=df\n",
        "a.head()\n"
      ]
    },
    {
      "cell_type": "code",
      "execution_count": 18,
      "metadata": {
        "colab": {
          "base_uri": "https://localhost:8080/"
        },
        "id": "mScEluOFmd4c",
        "outputId": "8e9a7bfb-f47f-4492-e15c-4da1d60dc267"
      },
      "outputs": [
        {
          "data": {
            "text/plain": [
              "ham     4516\n",
              "spam     641\n",
              "Name: target, dtype: int64"
            ]
          },
          "execution_count": 18,
          "metadata": {},
          "output_type": "execute_result"
        }
      ],
      "source": [
        "a.target.value_counts()\n",
        "# ham = majority class\n",
        "#spam minority"
      ]
    },
    {
      "cell_type": "code",
      "execution_count": 19,
      "metadata": {
        "id": "V4d_YDripEk9"
      },
      "outputs": [],
      "source": [
        "from sklearn.preprocessing import LabelEncoder\n",
        "encoder=LabelEncoder\n",
        "encoder = LabelEncoder()\n",
        "df['target'] = encoder.fit_transform(df['target'])"
      ]
    },
    {
      "cell_type": "code",
      "execution_count": 20,
      "metadata": {
        "colab": {
          "base_uri": "https://localhost:8080/",
          "height": 206
        },
        "id": "binh61lkqFnE",
        "outputId": "770d6c00-d2d8-45ad-9e65-dea122e73ced"
      },
      "outputs": [
        {
          "data": {
            "text/html": [
              "<div>\n",
              "<style scoped>\n",
              "    .dataframe tbody tr th:only-of-type {\n",
              "        vertical-align: middle;\n",
              "    }\n",
              "\n",
              "    .dataframe tbody tr th {\n",
              "        vertical-align: top;\n",
              "    }\n",
              "\n",
              "    .dataframe thead th {\n",
              "        text-align: right;\n",
              "    }\n",
              "</style>\n",
              "<table border=\"1\" class=\"dataframe\">\n",
              "  <thead>\n",
              "    <tr style=\"text-align: right;\">\n",
              "      <th></th>\n",
              "      <th>target</th>\n",
              "      <th>text</th>\n",
              "    </tr>\n",
              "  </thead>\n",
              "  <tbody>\n",
              "    <tr>\n",
              "      <th>0</th>\n",
              "      <td>0</td>\n",
              "      <td>Go until jurong point, crazy.. Available only ...</td>\n",
              "    </tr>\n",
              "    <tr>\n",
              "      <th>1</th>\n",
              "      <td>0</td>\n",
              "      <td>Ok lar... Joking wif u oni...</td>\n",
              "    </tr>\n",
              "    <tr>\n",
              "      <th>2</th>\n",
              "      <td>1</td>\n",
              "      <td>Free entry in 2 a wkly comp to win FA Cup fina...</td>\n",
              "    </tr>\n",
              "    <tr>\n",
              "      <th>3</th>\n",
              "      <td>0</td>\n",
              "      <td>U dun say so early hor... U c already then say...</td>\n",
              "    </tr>\n",
              "    <tr>\n",
              "      <th>4</th>\n",
              "      <td>0</td>\n",
              "      <td>Nah I don't think he goes to usf, he lives aro...</td>\n",
              "    </tr>\n",
              "  </tbody>\n",
              "</table>\n",
              "</div>"
            ],
            "text/plain": [
              "   target                                               text\n",
              "0       0  Go until jurong point, crazy.. Available only ...\n",
              "1       0                      Ok lar... Joking wif u oni...\n",
              "2       1  Free entry in 2 a wkly comp to win FA Cup fina...\n",
              "3       0  U dun say so early hor... U c already then say...\n",
              "4       0  Nah I don't think he goes to usf, he lives aro..."
            ]
          },
          "execution_count": 20,
          "metadata": {},
          "output_type": "execute_result"
        }
      ],
      "source": [
        "df.head()"
      ]
    },
    {
      "cell_type": "code",
      "execution_count": 21,
      "metadata": {
        "id": "aWcfpCGNeVzA"
      },
      "outputs": [],
      "source": [
        "#ham 0     spam 1"
      ]
    },
    {
      "cell_type": "code",
      "execution_count": 22,
      "metadata": {
        "colab": {
          "base_uri": "https://localhost:8080/"
        },
        "id": "hbjlwSBKqR4-",
        "outputId": "bac07af5-398b-45c5-ef80-089ae0b3eda4"
      },
      "outputs": [
        {
          "data": {
            "text/plain": [
              "target    0\n",
              "text      0\n",
              "dtype: int64"
            ]
          },
          "execution_count": 22,
          "metadata": {},
          "output_type": "execute_result"
        }
      ],
      "source": [
        "df.isnull().sum()"
      ]
    },
    {
      "cell_type": "code",
      "execution_count": 23,
      "metadata": {
        "colab": {
          "base_uri": "https://localhost:8080/"
        },
        "id": "8UIqGA33qTad",
        "outputId": "956a9b69-0032-4b34-bdcb-058db1329d58"
      },
      "outputs": [
        {
          "data": {
            "text/plain": [
              "0"
            ]
          },
          "execution_count": 23,
          "metadata": {},
          "output_type": "execute_result"
        }
      ],
      "source": [
        "df.duplicated().sum()"
      ]
    },
    {
      "cell_type": "code",
      "execution_count": 24,
      "metadata": {
        "colab": {
          "base_uri": "https://localhost:8080/"
        },
        "id": "_uZly33HytF9",
        "outputId": "732a96a3-43c6-477c-fea3-c4786b1af1a9"
      },
      "outputs": [],
      "source": [
        "# !pip install imblearn"
      ]
    },
    {
      "cell_type": "code",
      "execution_count": 25,
      "metadata": {
        "id": "3kIPSvWqy02l"
      },
      "outputs": [],
      "source": [
        "from imblearn.over_sampling import SMOTE\n",
        "smote=SMOTE()\n"
      ]
    },
    {
      "cell_type": "code",
      "execution_count": 26,
      "metadata": {
        "id": "xY0iq8un0PJF"
      },
      "outputs": [],
      "source": [
        "X=df\n",
        "Y=df['target']"
      ]
    },
    {
      "cell_type": "code",
      "execution_count": 27,
      "metadata": {
        "colab": {
          "base_uri": "https://localhost:8080/"
        },
        "id": "Zh5gN0ye0lo8",
        "outputId": "53364081-bbc5-49d6-f7b8-71a6417861d5"
      },
      "outputs": [
        {
          "data": {
            "text/plain": [
              "0    4516\n",
              "1     641\n",
              "Name: target, dtype: int64"
            ]
          },
          "execution_count": 27,
          "metadata": {},
          "output_type": "execute_result"
        }
      ],
      "source": [
        "df.target.value_counts()"
      ]
    },
    {
      "cell_type": "code",
      "execution_count": 28,
      "metadata": {
        "id": "GXXW8nUD08x2"
      },
      "outputs": [],
      "source": [
        "from imblearn import under_sampling,over_sampling\n"
      ]
    },
    {
      "cell_type": "code",
      "execution_count": 29,
      "metadata": {
        "colab": {
          "base_uri": "https://localhost:8080/"
        },
        "id": "cmwEto-i1La4",
        "outputId": "3f7d86e5-5e65-4eb8-92b4-43de8132dd01"
      },
      "outputs": [
        {
          "name": "stdout",
          "output_type": "stream",
          "text": [
            "[(0, 4516), (1, 4516)] (9032,)\n"
          ]
        }
      ],
      "source": [
        "from collections import Counter\n",
        "from imblearn.over_sampling import RandomOverSampler\n",
        "ros=RandomOverSampler(random_state=0)\n",
        "X_resampled, y_resampled=ros.fit_resample(X,Y)\n",
        "print(sorted(Counter(y_resampled).items()), y_resampled.shape)"
      ]
    },
    {
      "cell_type": "code",
      "execution_count": 30,
      "metadata": {
        "colab": {
          "base_uri": "https://localhost:8080/"
        },
        "id": "RqYKMvtV2_pW",
        "outputId": "9b7ef3fe-3420-4ac0-e612-3d5ba457f7cd"
      },
      "outputs": [
        {
          "data": {
            "text/plain": [
              "0    4516\n",
              "1     641\n",
              "Name: target, dtype: int64"
            ]
          },
          "execution_count": 30,
          "metadata": {},
          "output_type": "execute_result"
        }
      ],
      "source": [
        "X.head()\n",
        "X.target.value_counts()"
      ]
    },
    {
      "cell_type": "code",
      "execution_count": 31,
      "metadata": {
        "colab": {
          "base_uri": "https://localhost:8080/"
        },
        "id": "26uGrbBx3eV9",
        "outputId": "ce6e0265-c75c-479d-a5b6-aa816abe53be"
      },
      "outputs": [
        {
          "name": "stdout",
          "output_type": "stream",
          "text": [
            "      target                                               text\n",
            "0          0  Go until jurong point, crazy.. Available only ...\n",
            "1          0                      Ok lar... Joking wif u oni...\n",
            "2          1  Free entry in 2 a wkly comp to win FA Cup fina...\n",
            "3          0  U dun say so early hor... U c already then say...\n",
            "4          0  Nah I don't think he goes to usf, he lives aro...\n",
            "...      ...                                                ...\n",
            "9027       1  I want some cock! My hubby's away, I need a re...\n",
            "9028       1  You have won a Nokia 7250i. This is what you g...\n",
            "9029       1  Are you unique enough? Find out from 30th Augu...\n",
            "9030       1  Congratulations ur awarded 500 of CD vouchers ...\n",
            "9031       1  5p 4 alfie Moon's Children in need song on ur ...\n",
            "\n",
            "[9032 rows x 2 columns]\n",
            "0       0\n",
            "1       0\n",
            "2       1\n",
            "3       0\n",
            "4       0\n",
            "       ..\n",
            "9027    1\n",
            "9028    1\n",
            "9029    1\n",
            "9030    1\n",
            "9031    1\n",
            "Name: target, Length: 9032, dtype: int32\n"
          ]
        }
      ],
      "source": [
        "print(X_resampled)\n",
        "print(y_resampled)"
      ]
    },
    {
      "cell_type": "code",
      "execution_count": 32,
      "metadata": {
        "colab": {
          "base_uri": "https://localhost:8080/",
          "height": 406
        },
        "id": "qst4OEdxbYL2",
        "outputId": "b36f7291-9327-455d-945a-5431b005260e"
      },
      "outputs": [
        {
          "data": {
            "image/png": "[encoded data removed]",
            "text/plain": [
              "<Figure size 640x480 with 1 Axes>"
            ]
          },
          "metadata": {},
          "output_type": "display_data"
        }
      ],
      "source": [
        "import matplotlib.pyplot as plt\n",
        "plt.pie(y_resampled.value_counts(), labels =['ham','spam'], autopct='%0.2f')\n",
        "plt.show()\n",
        "\n",
        "#balanced data"
      ]
    },
    {
      "cell_type": "code",
      "execution_count": 33,
      "metadata": {
        "colab": {
          "base_uri": "https://localhost:8080/",
          "height": 269
        },
        "id": "6YbCifu_jzmv",
        "outputId": "bf3f3b11-68b9-4d61-c25f-eb46e1312a63"
      },
      "outputs": [
        {
          "data": {
            "text/html": [
              "<div>\n",
              "<style scoped>\n",
              "    .dataframe tbody tr th:only-of-type {\n",
              "        vertical-align: middle;\n",
              "    }\n",
              "\n",
              "    .dataframe tbody tr th {\n",
              "        vertical-align: top;\n",
              "    }\n",
              "\n",
              "    .dataframe thead th {\n",
              "        text-align: right;\n",
              "    }\n",
              "</style>\n",
              "<table border=\"1\" class=\"dataframe\">\n",
              "  <thead>\n",
              "    <tr style=\"text-align: right;\">\n",
              "      <th></th>\n",
              "      <th>target</th>\n",
              "      <th>text</th>\n",
              "    </tr>\n",
              "  </thead>\n",
              "  <tbody>\n",
              "    <tr>\n",
              "      <th>1906</th>\n",
              "      <td>0</td>\n",
              "      <td>There're some people by mu, I'm at the table b...</td>\n",
              "    </tr>\n",
              "    <tr>\n",
              "      <th>4523</th>\n",
              "      <td>0</td>\n",
              "      <td>DO U WANT 2 MEET UP 2MORRO</td>\n",
              "    </tr>\n",
              "    <tr>\n",
              "      <th>4677</th>\n",
              "      <td>0</td>\n",
              "      <td>Ü ready then call me...</td>\n",
              "    </tr>\n",
              "    <tr>\n",
              "      <th>838</th>\n",
              "      <td>0</td>\n",
              "      <td>Sir, I have been late in paying rent for the p...</td>\n",
              "    </tr>\n",
              "    <tr>\n",
              "      <th>4893</th>\n",
              "      <td>0</td>\n",
              "      <td>Miserable. They don't tell u that the side eff...</td>\n",
              "    </tr>\n",
              "    <tr>\n",
              "      <th>1290</th>\n",
              "      <td>0</td>\n",
              "      <td>Hey...Great deal...Farm tour 9am to 5pm $95/pa...</td>\n",
              "    </tr>\n",
              "    <tr>\n",
              "      <th>921</th>\n",
              "      <td>0</td>\n",
              "      <td>When u wana see it then</td>\n",
              "    </tr>\n",
              "  </tbody>\n",
              "</table>\n",
              "</div>"
            ],
            "text/plain": [
              "      target                                               text\n",
              "1906       0  There're some people by mu, I'm at the table b...\n",
              "4523       0                         DO U WANT 2 MEET UP 2MORRO\n",
              "4677       0                            Ü ready then call me...\n",
              "838        0  Sir, I have been late in paying rent for the p...\n",
              "4893       0  Miserable. They don't tell u that the side eff...\n",
              "1290       0  Hey...Great deal...Farm tour 9am to 5pm $95/pa...\n",
              "921        0                            When u wana see it then"
            ]
          },
          "execution_count": 33,
          "metadata": {},
          "output_type": "execute_result"
        }
      ],
      "source": [
        "df.sample(7)"
      ]
    },
    {
      "cell_type": "code",
      "execution_count": 34,
      "metadata": {
        "colab": {
          "base_uri": "https://localhost:8080/"
        },
        "id": "otWPxA76j4OJ",
        "outputId": "9cacbbaf-bae4-492f-8301-080a6c2d7563"
      },
      "outputs": [
        {
          "data": {
            "text/plain": [
              "0    4516\n",
              "1     641\n",
              "Name: target, dtype: int64"
            ]
          },
          "execution_count": 34,
          "metadata": {},
          "output_type": "execute_result"
        }
      ],
      "source": [
        "df['target'].value_counts()"
      ]
    },
    {
      "cell_type": "code",
      "execution_count": 35,
      "metadata": {
        "id": "Wp67O2oxmW_P"
      },
      "outputs": [],
      "source": [
        "import pandas as pd\n",
        "from sklearn.model_selection import train_test_split\n",
        "\n",
        "\n",
        "\n",
        "# Split  data into features (X) and target labels (y)\n",
        "X = df['text']   #input data (a feature)\n",
        "y = df['target'] #output\n",
        "\n",
        "#  training and testing sets\n",
        "X_train, X_test, y_train, y_test = train_test_split(X, y, test_size=0.2, random_state=42)   # 80 20 split\n",
        "\n",
        "# new DataFrames for the training and testing set\n",
        "train_data = pd.DataFrame({'target': y_train, 'text': X_train})\n",
        "test_data = pd.DataFrame({'target': y_test, 'text': X_test})\n",
        "\n",
        "# Save the training and testing DataFrames to separate CSV files\n",
        "#saving into new files\n",
        "train_data.to_csv(\"train_dataset.csv\", sep='\\t', index=False)\n",
        "test_data.to_csv(\"test_dataset.csv\", sep='\\t', index=False)\n"
      ]
    },
    {
      "cell_type": "markdown",
      "metadata": {
        "id": "JfisNAMLfEXu"
      },
      "source": [
        "##Naive Bayes"
      ]
    },
    {
      "cell_type": "code",
      "execution_count": 36,
      "metadata": {
        "colab": {
          "base_uri": "https://localhost:8080/"
        },
        "id": "kPvMvC8nm-JR",
        "outputId": "c6396840-4d54-4cd2-c3a1-b38c3e6c7c89"
      },
      "outputs": [
        {
          "name": "stdout",
          "output_type": "stream",
          "text": [
            "              precision    recall  f1-score   support\n",
            "\n",
            "           0       0.95      1.00      0.97       896\n",
            "           1       1.00      0.64      0.78       136\n",
            "\n",
            "    accuracy                           0.95      1032\n",
            "   macro avg       0.97      0.82      0.88      1032\n",
            "weighted avg       0.95      0.95      0.95      1032\n",
            "\n"
          ]
        }
      ],
      "source": [
        "import pandas as pd\n",
        "from sklearn.feature_extraction.text import TfidfVectorizer\n",
        "from sklearn.naive_bayes import MultinomialNB\n",
        "from sklearn.pipeline import make_pipeline\n",
        "from sklearn.metrics import classification_report\n",
        "\n",
        "# Load the training dataset\n",
        "train_df = pd.read_csv(\"train_dataset.csv\", sep='\\t')\n",
        "\n",
        "# Create a pipeline with a TF-IDF vectorizer and a Naive Bayes classifier\n",
        "pipeline = make_pipeline(TfidfVectorizer(), MultinomialNB())\n",
        "\n",
        "# Fit the pipeline on the training data\n",
        "pipeline.fit(train_df['text'], train_df['target'])\n",
        "\n",
        "# Load the testing dataset\n",
        "test_df = pd.read_csv(\"test_dataset.csv\", sep='\\t')\n",
        "\n",
        "# Make predictions on the testing data\n",
        "predictions = pipeline.predict(test_df['text'])\n",
        "\n",
        "# Print classification report\n",
        "print(classification_report(test_df['target'], predictions))\n",
        "\n",
        "\n",
        "#recall--- True Positive Rate---measures how many of the actual positive cases (instances belonging to a specific class) the model was able to find correctly.\n",
        "#ham 0   spam 1\n",
        "\n",
        "# # In NB, the algorithm looks at the words in the text to make guesses.\n",
        "# If the words in the text mostly relate to one class, NB will guess that class.\n",
        "# In an imbalanced dataset, where one class is rare, there might not be enough examples to show all the words related to that class.\n",
        "# This means that NB might not recognize the rare class's unique words and patterns, making it biased towards the more common class."
      ]
    },
    {
      "cell_type": "code",
      "execution_count": 37,
      "metadata": {
        "id": "SXGN0gnmnBLc"
      },
      "outputs": [],
      "source": [
        "#applying smote"
      ]
    },
    {
      "cell_type": "code",
      "execution_count": 38,
      "metadata": {
        "colab": {
          "base_uri": "https://localhost:8080/"
        },
        "id": "9ph1k2CKnC83",
        "outputId": "17d06912-7375-471e-c003-6c3a4f0ae16f"
      },
      "outputs": [
        {
          "name": "stdout",
          "output_type": "stream",
          "text": [
            "              precision    recall  f1-score   support\n",
            "\n",
            "           0       0.99      0.97      0.98       896\n",
            "           1       0.85      0.96      0.90       136\n",
            "\n",
            "    accuracy                           0.97      1032\n",
            "   macro avg       0.92      0.97      0.94      1032\n",
            "weighted avg       0.98      0.97      0.97      1032\n",
            "\n"
          ]
        }
      ],
      "source": [
        "import pandas as pd\n",
        "from sklearn.feature_extraction.text import TfidfVectorizer\n",
        "from sklearn.naive_bayes import MultinomialNB\n",
        "from sklearn.pipeline import make_pipeline\n",
        "from sklearn.metrics import classification_report\n",
        "from imblearn.over_sampling import SMOTE\n",
        "\n",
        "# Load the training dataset\n",
        "train_df = pd.read_csv(\"train_dataset.csv\", sep='\\t')\n",
        "\n",
        "# Separate features (X) and target labels (y)\n",
        "X_train = train_df['text']\n",
        "y_train = train_df['target']\n",
        "\n",
        "# Create a TF-IDF vectorizer\n",
        "vectorizer = TfidfVectorizer() #Converting numerical to test\n",
        "\n",
        "# Apply TF-IDF vectorization to the text data\n",
        "X_train_tfidf = vectorizer.fit_transform(X_train)\n",
        "\n",
        "# Apply SMOTE to balance the dataset\n",
        "smote = SMOTE(sampling_strategy='auto', random_state=42)\n",
        "X_resampled, y_resampled = smote.fit_resample(X_train_tfidf, y_train)\n",
        "\n",
        "# Create a pipeline with a Naive Bayes classifier\n",
        "pipeline = make_pipeline(MultinomialNB())\n",
        "\n",
        "# Fit the pipeline on the resampled training data\n",
        "pipeline.fit(X_resampled, y_resampled)\n",
        "\n",
        "# Load the testing dataset\n",
        "test_df = pd.read_csv(\"test_dataset.csv\", sep='\\t')\n",
        "\n",
        "# Transform the text data using the same vectorizer\n",
        "X_test_tfidf = vectorizer.transform(test_df['text'])\n",
        "\n",
        "# Make predictions on the testing data\n",
        "predictions = pipeline.predict(X_test_tfidf)\n",
        "\n",
        "# Print classification report\n",
        "print(classification_report(test_df['target'], predictions))\n"
      ]
    },
    {
      "cell_type": "code",
      "execution_count": 39,
      "metadata": {
        "colab": {
          "base_uri": "https://localhost:8080/"
        },
        "id": "wt4O3zPwpfuA",
        "outputId": "facbb6f2-5ec5-461d-a0a2-b828971dacaf"
      },
      "outputs": [
        {
          "name": "stdout",
          "output_type": "stream",
          "text": [
            "Training Dataset:\n",
            "   target                                               text\n",
            "0       0  Got fujitsu, ibm, hp, toshiba... Got a lot of ...\n",
            "1       0  So how are you really. What are you up to. How...\n",
            "2       0                    I see a cup of coffee animation\n",
            "3       0      This pain couldn't have come at a worse time.\n",
            "4       0                             Also where's the piece\n",
            "\n",
            "Testing Dataset:\n",
            "   target                                               text\n",
            "0       0  Also sir, i sent you an email about how to log...\n",
            "1       0                   Are you free now?can i call now?\n",
            "2       0  My supervisor find 4 me one lor i thk his stud...\n",
            "3       0  She.s good. She was wondering if you wont say ...\n",
            "4       1  Sorry I missed your call let's talk when you h...\n"
          ]
        }
      ],
      "source": [
        "import pandas as pd\n",
        "\n",
        "# Reading the training and testing datasets\n",
        "train_data = pd.read_csv(\"train_dataset.csv\", sep='\\t')\n",
        "test_data = pd.read_csv(\"test_dataset.csv\", sep='\\t')\n",
        "\n",
        "\n",
        "print(\"Training Dataset:\")\n",
        "print(train_data.head())\n",
        "\n",
        "print(\"\\nTesting Dataset:\")\n",
        "print(test_data.head())\n"
      ]
    },
    {
      "cell_type": "markdown",
      "metadata": {
        "id": "M1PW9Hjwe8d5"
      },
      "source": [
        "##Random Forest"
      ]
    },
    {
      "cell_type": "code",
      "execution_count": 40,
      "metadata": {
        "colab": {
          "base_uri": "https://localhost:8080/"
        },
        "id": "tQ_HEASD1sfU",
        "outputId": "f6e30c15-e517-42d1-bb61-3c67745d687e"
      },
      "outputs": [
        {
          "name": "stdout",
          "output_type": "stream",
          "text": [
            "Accuracy: 0.9767441860465116\n",
            "Classification Report:\n",
            "              precision    recall  f1-score   support\n",
            "\n",
            "           0       0.98      1.00      0.99       896\n",
            "           1       0.98      0.84      0.90       136\n",
            "\n",
            "    accuracy                           0.98      1032\n",
            "   macro avg       0.98      0.92      0.95      1032\n",
            "weighted avg       0.98      0.98      0.98      1032\n",
            "\n"
          ]
        }
      ],
      "source": [
        "import pandas as pd\n",
        "from sklearn.model_selection import train_test_split\n",
        "from sklearn.feature_extraction.text import TfidfVectorizer\n",
        "from sklearn.ensemble import RandomForestClassifier\n",
        "from sklearn.metrics import accuracy_score, classification_report\n",
        "\n",
        "# Assuming you have a DataFrame named 'df' with 'text' and 'target' columns\n",
        "# If not, load the train_data and test_data DataFrames you created earlier\n",
        "\n",
        "# Split data into features (X) and target labels (y)\n",
        "X = df['text']  # Input data (a feature)\n",
        "y = df['target']  # Output\n",
        "\n",
        "# Split into training and testing sets (80% train, 20% test)\n",
        "X_train, X_test, y_train, y_test = train_test_split(X, y, test_size=0.2, random_state=42)\n",
        "\n",
        "# TF-IDF vectorization\n",
        "tfidf_vectorizer = TfidfVectorizer()\n",
        "X_train_tfidf = tfidf_vectorizer.fit_transform(X_train)\n",
        "X_test_tfidf = tfidf_vectorizer.transform(X_test)\n",
        "\n",
        "# Create a Random Forest classifier\n",
        "rf_classifier = RandomForestClassifier(random_state=42)\n",
        "\n",
        "# Fit the model to the TF-IDF transformed training data\n",
        "rf_classifier.fit(X_train_tfidf, y_train)\n",
        "\n",
        "# Predict on the TF-IDF transformed test data\n",
        "y_pred = rf_classifier.predict(X_test_tfidf)\n",
        "\n",
        "# Calculate accuracy\n",
        "accuracy = accuracy_score(y_test, y_pred)\n",
        "print('Accuracy:', accuracy)\n",
        "\n",
        "# Generate a classification report\n",
        "print('Classification Report:')\n",
        "print(classification_report(y_test, y_pred))\n",
        "\n",
        "# You can also save the trained model if needed\n",
        "# joblib.dump(rf_classifier, 'random_forest_model.joblib')\n"
      ]
    },
    {
      "cell_type": "code",
      "execution_count": 41,
      "metadata": {
        "id": "tRIkF4-P2D5p"
      },
      "outputs": [],
      "source": [
        "# applying SMOTE"
      ]
    },
    {
      "cell_type": "code",
      "execution_count": 42,
      "metadata": {
        "colab": {
          "base_uri": "https://localhost:8080/"
        },
        "id": "Bv2hCbrSya9c",
        "outputId": "310f9e46-93f3-47b2-e61a-c5d6facab9c5"
      },
      "outputs": [
        {
          "name": "stdout",
          "output_type": "stream",
          "text": [
            "Accuracy on resampled test data: 0.9910220994475138\n",
            "Classification Report:\n",
            "              precision    recall  f1-score   support\n",
            "\n",
            "           0       0.98      1.00      0.99       896\n",
            "           1       0.99      0.88      0.93       136\n",
            "\n",
            "    accuracy                           0.98      1032\n",
            "   macro avg       0.99      0.94      0.96      1032\n",
            "weighted avg       0.98      0.98      0.98      1032\n",
            "\n"
          ]
        }
      ],
      "source": [
        "import pandas as pd\n",
        "from sklearn.model_selection import train_test_split\n",
        "from sklearn.feature_extraction.text import TfidfVectorizer\n",
        "from sklearn.ensemble import RandomForestClassifier\n",
        "from sklearn.metrics import accuracy_score, classification_report\n",
        "from imblearn.over_sampling import SMOTE\n",
        "\n",
        "# Assuming you have a DataFrame named 'df' with 'text' and 'target' columns\n",
        "# If not, load the train_data and test_data DataFrames you created earlier\n",
        "\n",
        "# Load the training dataset\n",
        "train_df = pd.read_csv(\"train_dataset.csv\", sep='\\t')\n",
        "\n",
        "# Separate features (X) and target labels (y)\n",
        "X_train = train_df['text']\n",
        "y_train = train_df['target']\n",
        "\n",
        "# Create a TF-IDF vectorizer\n",
        "vectorizer = TfidfVectorizer()\n",
        "\n",
        "# Apply TF-IDF vectorization to the text data\n",
        "X_train_tfidf = vectorizer.fit_transform(X_train)\n",
        "\n",
        "# Apply SMOTE to balance the dataset\n",
        "smote = SMOTE(sampling_strategy='auto', random_state=42)\n",
        "X_resampled, y_resampled = smote.fit_resample(X_train_tfidf, y_train)\n",
        "\n",
        "# Split into training and testing sets (80% train, 20% test)\n",
        "X_train_resampled, X_test_resampled, y_train_resampled, y_test_resampled = train_test_split(\n",
        "    X_resampled, y_resampled, test_size=0.2, random_state=42)\n",
        "\n",
        "# Create a Random Forest classifier\n",
        "rf_classifier = RandomForestClassifier(random_state=42)\n",
        "\n",
        "# Fit the model to the resampled training data\n",
        "rf_classifier.fit(X_train_resampled, y_train_resampled)\n",
        "\n",
        "# Predict on the resampled test data\n",
        "y_pred_resampled = rf_classifier.predict(X_test_resampled)\n",
        "\n",
        "# Calculate accuracy on the resampled test data\n",
        "accuracy_resampled = accuracy_score(y_test_resampled, y_pred_resampled)\n",
        "print('Accuracy on resampled test data:', accuracy_resampled)\n",
        "\n",
        "# Transform the text data in the testing dataset using the same vectorizer\n",
        "test_df = pd.read_csv(\"test_dataset.csv\", sep='\\t')\n",
        "X_test_tfidf = vectorizer.transform(test_df['text'])\n",
        "\n",
        "# Make predictions on the original testing data\n",
        "predictions = rf_classifier.predict(X_test_tfidf)\n",
        "\n",
        "# Print classification report\n",
        "print('Classification Report:')\n",
        "print(classification_report(test_df['target'], predictions))\n"
      ]
    },
    {
      "cell_type": "markdown",
      "metadata": {
        "id": "MstOKRi535wX"
      },
      "source": [
        "##Logistic Regression"
      ]
    },
    {
      "cell_type": "code",
      "execution_count": 43,
      "metadata": {
        "colab": {
          "base_uri": "https://localhost:8080/"
        },
        "id": "67pwIGj2ybES",
        "outputId": "79674d0b-9488-4c63-a4b7-0fd16897bfb8"
      },
      "outputs": [
        {
          "name": "stdout",
          "output_type": "stream",
          "text": [
            "Accuracy: 0.9709302325581395\n",
            "Classification Report:\n",
            "              precision    recall  f1-score   support\n",
            "\n",
            "           0       0.97      1.00      0.98       896\n",
            "           1       0.98      0.79      0.88       136\n",
            "\n",
            "    accuracy                           0.97      1032\n",
            "   macro avg       0.98      0.90      0.93      1032\n",
            "weighted avg       0.97      0.97      0.97      1032\n",
            "\n"
          ]
        }
      ],
      "source": [
        "import pandas as pd\n",
        "from sklearn.model_selection import train_test_split\n",
        "from sklearn.feature_extraction.text import TfidfVectorizer\n",
        "from sklearn.linear_model import LogisticRegression\n",
        "from sklearn.metrics import accuracy_score, classification_report\n",
        "\n",
        "# Assuming you have a DataFrame named 'df' with 'text' and 'target' columns\n",
        "# If not, load the train_data and test_data DataFrames you created earlier\n",
        "\n",
        "# Split data into features (X) and target labels (y)\n",
        "X = df['text']  # Input data (a feature)\n",
        "y = df['target']  # Output\n",
        "\n",
        "# Split into training and testing sets (80% train, 20% test)\n",
        "X_train, X_test, y_train, y_test = train_test_split(X, y, test_size=0.2, random_state=42)\n",
        "\n",
        "# TF-IDF vectorization\n",
        "tfidf_vectorizer = TfidfVectorizer()\n",
        "X_train_tfidf = tfidf_vectorizer.fit_transform(X_train)\n",
        "X_test_tfidf = tfidf_vectorizer.transform(X_test)\n",
        "\n",
        "# Create a Logistic Regression classifier\n",
        "lr_classifier = LogisticRegression(random_state=42)\n",
        "\n",
        "# Fit the model to the TF-IDF transformed training data\n",
        "lr_classifier.fit(X_train_tfidf, y_train)\n",
        "\n",
        "# Predict on the TF-IDF transformed test data\n",
        "y_pred = lr_classifier.predict(X_test_tfidf)\n",
        "\n",
        "# Calculate accuracy\n",
        "accuracy = accuracy_score(y_test, y_pred)\n",
        "print('Accuracy:', accuracy)\n",
        "\n",
        "# Generate a classification report\n",
        "print('Classification Report:')\n",
        "print(classification_report(y_test, y_pred))\n",
        "\n",
        "# You can also save the trained model if needed\n",
        "# joblib.dump(lr_classifier, 'logistic_regression_model.joblib')\n"
      ]
    },
    {
      "cell_type": "code",
      "execution_count": 44,
      "metadata": {
        "id": "EmZ0Oyuh4B5S"
      },
      "outputs": [],
      "source": [
        "#applying SMOTE"
      ]
    },
    {
      "cell_type": "code",
      "execution_count": 45,
      "metadata": {
        "colab": {
          "base_uri": "https://localhost:8080/"
        },
        "id": "l_fYUYy04CAr",
        "outputId": "c630fef3-06d6-4be3-ef60-dc93f41274dc"
      },
      "outputs": [
        {
          "name": "stdout",
          "output_type": "stream",
          "text": [
            "Accuracy on resampled test data: 0.9848066298342542\n",
            "Classification Report:\n",
            "              precision    recall  f1-score   support\n",
            "\n",
            "           0       0.99      0.98      0.99       896\n",
            "           1       0.90      0.96      0.93       136\n",
            "\n",
            "    accuracy                           0.98      1032\n",
            "   macro avg       0.95      0.97      0.96      1032\n",
            "weighted avg       0.98      0.98      0.98      1032\n",
            "\n"
          ]
        }
      ],
      "source": [
        "import pandas as pd\n",
        "from sklearn.model_selection import train_test_split\n",
        "from sklearn.feature_extraction.text import TfidfVectorizer\n",
        "from sklearn.linear_model import LogisticRegression\n",
        "from sklearn.metrics import accuracy_score, classification_report\n",
        "from imblearn.over_sampling import SMOTE\n",
        "\n",
        "# Assuming you have a DataFrame named 'df' with 'text' and 'target' columns\n",
        "# If not, load the train_data and test_data DataFrames you created earlier\n",
        "\n",
        "# Load the training dataset\n",
        "train_df = pd.read_csv(\"train_dataset.csv\", sep='\\t')\n",
        "\n",
        "# Separate features (X) and target labels (y)\n",
        "X_train = train_df['text']\n",
        "y_train = train_df['target']\n",
        "\n",
        "# Create a TF-IDF vectorizer\n",
        "vectorizer = TfidfVectorizer()\n",
        "\n",
        "# Apply TF-IDF vectorization to the text data\n",
        "X_train_tfidf = vectorizer.fit_transform(X_train)\n",
        "\n",
        "# Apply SMOTE to balance the dataset\n",
        "smote = SMOTE(sampling_strategy='auto', random_state=42)\n",
        "X_resampled, y_resampled = smote.fit_resample(X_train_tfidf, y_train)\n",
        "\n",
        "# Split into training and testing sets (80% train, 20% test)\n",
        "X_train_resampled, X_test_resampled, y_train_resampled, y_test_resampled = train_test_split(\n",
        "    X_resampled, y_resampled, test_size=0.2, random_state=42)\n",
        "\n",
        "# Create a Logistic Regression classifier\n",
        "lr_classifier = LogisticRegression(random_state=42)\n",
        "\n",
        "# Fit the model to the resampled training data\n",
        "lr_classifier.fit(X_train_resampled, y_train_resampled)\n",
        "\n",
        "# Predict on the resampled test data\n",
        "y_pred_resampled = lr_classifier.predict(X_test_resampled)\n",
        "\n",
        "# Calculate accuracy on the resampled test data\n",
        "accuracy_resampled = accuracy_score(y_test_resampled, y_pred_resampled)\n",
        "print('Accuracy on resampled test data:', accuracy_resampled)\n",
        "\n",
        "# Transform the text data in the testing dataset using the same vectorizer\n",
        "test_df = pd.read_csv(\"test_dataset.csv\", sep='\\t')\n",
        "X_test_tfidf = vectorizer.transform(test_df['text'])\n",
        "\n",
        "# Make predictions on the original testing data\n",
        "predictions = lr_classifier.predict(X_test_tfidf)\n",
        "\n",
        "# Print classification report\n",
        "print('Classification Report:')\n",
        "print(classification_report(test_df['target'], predictions))\n"
      ]
    },
    {
      "cell_type": "markdown",
      "metadata": {
        "id": "uNhjcy6pazoR"
      },
      "source": [
        "##Decision Tree"
      ]
    },
    {
      "cell_type": "code",
      "execution_count": 46,
      "metadata": {
        "colab": {
          "base_uri": "https://localhost:8080/"
        },
        "id": "9ExL_HjFVs-f",
        "outputId": "5e719a14-c158-4744-bd0f-523e23000639"
      },
      "outputs": [
        {
          "name": "stdout",
          "output_type": "stream",
          "text": [
            "Accuracy: 0.9612403100775194\n",
            "Classification Report:\n",
            "              precision    recall  f1-score   support\n",
            "\n",
            "           0       0.98      0.98      0.98       896\n",
            "           1       0.86      0.85      0.85       136\n",
            "\n",
            "    accuracy                           0.96      1032\n",
            "   macro avg       0.92      0.91      0.91      1032\n",
            "weighted avg       0.96      0.96      0.96      1032\n",
            "\n"
          ]
        }
      ],
      "source": [
        "import pandas as pd\n",
        "from sklearn.model_selection import train_test_split\n",
        "from sklearn.feature_extraction.text import TfidfVectorizer\n",
        "from sklearn.tree import DecisionTreeClassifier\n",
        "from sklearn.metrics import accuracy_score, classification_report\n",
        "\n",
        "# Assuming you have a DataFrame named 'df' with 'text' and 'target' columns\n",
        "# If not, load the train_data and test_data DataFrames you created earlier\n",
        "\n",
        "# Split data into features (X) and target labels (y)\n",
        "X = df['text']  # Input data (a feature)\n",
        "y = df['target']  # Output\n",
        "\n",
        "# Split into training and testing sets (80% train, 20% test)\n",
        "X_train, X_test, y_train, y_test = train_test_split(X, y, test_size=0.2, random_state=42)\n",
        "\n",
        "# TF-IDF vectorization\n",
        "tfidf_vectorizer = TfidfVectorizer()\n",
        "X_train_tfidf = tfidf_vectorizer.fit_transform(X_train)\n",
        "X_test_tfidf = tfidf_vectorizer.transform(X_test)\n",
        "\n",
        "# Create a Decision Tree classifier\n",
        "dt_classifier = DecisionTreeClassifier(random_state=42)\n",
        "\n",
        "# Fit the model to the TF-IDF transformed training data\n",
        "dt_classifier.fit(X_train_tfidf, y_train)\n",
        "\n",
        "# Predict on the TF-IDF transformed test data\n",
        "y_pred = dt_classifier.predict(X_test_tfidf)\n",
        "\n",
        "# Calculate accuracy\n",
        "accuracy = accuracy_score(y_test, y_pred)\n",
        "print('Accuracy:', accuracy)\n",
        "\n",
        "# Generate a classification report\n",
        "print('Classification Report:')\n",
        "print(classification_report(y_test, y_pred))\n",
        "\n",
        "# You can also save the trained model if needed\n",
        "# joblib.dump(dt_classifier, 'decision_tree_model.joblib')\n"
      ]
    },
    {
      "cell_type": "code",
      "execution_count": 47,
      "metadata": {
        "id": "uxT_z5jCWRB1"
      },
      "outputs": [],
      "source": [
        "#applying smote"
      ]
    },
    {
      "cell_type": "code",
      "execution_count": 48,
      "metadata": {
        "colab": {
          "base_uri": "https://localhost:8080/"
        },
        "id": "3vVNf9B8VtF7",
        "outputId": "d268c73c-69f1-4aef-ceb8-46b872d48b07"
      },
      "outputs": [
        {
          "name": "stdout",
          "output_type": "stream",
          "text": [
            "Accuracy on resampled test data: 0.9751381215469613\n",
            "Classification Report:\n",
            "              precision    recall  f1-score   support\n",
            "\n",
            "           0       0.98      0.97      0.97       896\n",
            "           1       0.79      0.84      0.81       136\n",
            "\n",
            "    accuracy                           0.95      1032\n",
            "   macro avg       0.88      0.90      0.89      1032\n",
            "weighted avg       0.95      0.95      0.95      1032\n",
            "\n"
          ]
        }
      ],
      "source": [
        "import pandas as pd\n",
        "from sklearn.model_selection import train_test_split\n",
        "from sklearn.feature_extraction.text import TfidfVectorizer\n",
        "from sklearn.tree import DecisionTreeClassifier\n",
        "from sklearn.metrics import accuracy_score, classification_report\n",
        "from imblearn.over_sampling import SMOTE\n",
        "\n",
        "# Assuming you have a DataFrame named 'df' with 'text' and 'target' columns\n",
        "# If not, load the train_data and test_data DataFrames you created earlier\n",
        "\n",
        "# Load the training dataset\n",
        "train_df = pd.read_csv(\"train_dataset.csv\", sep='\\t')\n",
        "\n",
        "# Separate features (X) and target labels (y)\n",
        "X_train = train_df['text']\n",
        "y_train = train_df['target']\n",
        "\n",
        "# Create a TF-IDF vectorizer\n",
        "vectorizer = TfidfVectorizer()\n",
        "\n",
        "# Apply TF-IDF vectorization to the text data\n",
        "X_train_tfidf = vectorizer.fit_transform(X_train)\n",
        "\n",
        "# Apply SMOTE to balance the dataset\n",
        "smote = SMOTE(sampling_strategy='auto', random_state=42)\n",
        "X_resampled, y_resampled = smote.fit_resample(X_train_tfidf, y_train)\n",
        "\n",
        "# Split into training and testing sets (80% train, 20% test)\n",
        "X_train_resampled, X_test_resampled, y_train_resampled, y_test_resampled = train_test_split(\n",
        "    X_resampled, y_resampled, test_size=0.2, random_state=42)\n",
        "\n",
        "# Create a Decision Tree classifier\n",
        "dt_classifier = DecisionTreeClassifier(random_state=42)\n",
        "\n",
        "# Fit the model to the resampled training data\n",
        "dt_classifier.fit(X_train_resampled, y_train_resampled)\n",
        "\n",
        "# Predict on the resampled test data\n",
        "y_pred_resampled = dt_classifier.predict(X_test_resampled)\n",
        "\n",
        "# Calculate accuracy on the resampled test data\n",
        "accuracy_resampled = accuracy_score(y_test_resampled, y_pred_resampled)\n",
        "print('Accuracy on resampled test data:', accuracy_resampled)\n",
        "\n",
        "# Transform the text data in the testing dataset using the same vectorizer\n",
        "test_df = pd.read_csv(\"test_dataset.csv\", sep='\\t')\n",
        "X_test_tfidf = vectorizer.transform(test_df['text'])\n",
        "\n",
        "# Make predictions on the original testing data\n",
        "predictions = dt_classifier.predict(X_test_tfidf)\n",
        "\n",
        "# Print classification report\n",
        "print('Classification Report:')\n",
        "print(classification_report(test_df['target'], predictions))\n"
      ]
    },
    {
      "cell_type": "markdown",
      "metadata": {
        "id": "8hEnAg-zgFc7"
      },
      "source": [
        "##Combined Random forest and logistic regression"
      ]
    },
    {
      "cell_type": "code",
      "execution_count": 49,
      "metadata": {
        "colab": {
          "base_uri": "https://localhost:8080/"
        },
        "id": "ZNb4BF6zc9RK",
        "outputId": "7ff94b9f-96e0-4827-910d-369e33ee1234"
      },
      "outputs": [
        {
          "name": "stdout",
          "output_type": "stream",
          "text": [
            "Accuracy on resampled test data: 0.9937845303867403\n",
            "Classification Report:\n",
            "              precision    recall  f1-score   support\n",
            "\n",
            "           0       0.99      0.99      0.99       896\n",
            "           1       0.96      0.92      0.94       136\n",
            "\n",
            "    accuracy                           0.98      1032\n",
            "   macro avg       0.97      0.96      0.97      1032\n",
            "weighted avg       0.98      0.98      0.98      1032\n",
            "\n"
          ]
        }
      ],
      "source": [
        "import pandas as pd\n",
        "from sklearn.model_selection import train_test_split\n",
        "from sklearn.feature_extraction.text import TfidfVectorizer\n",
        "from sklearn.ensemble import RandomForestClassifier, VotingClassifier\n",
        "from sklearn.linear_model import LogisticRegression\n",
        "from sklearn.metrics import accuracy_score, classification_report\n",
        "from imblearn.over_sampling import SMOTE\n",
        "\n",
        "# Load the training dataset\n",
        "train_df = pd.read_csv(\"train_dataset.csv\", sep='\\t')\n",
        "\n",
        "# Separate features (X) and target labels (y)\n",
        "X_train = train_df['text']\n",
        "y_train = train_df['target']\n",
        "\n",
        "# Create a TF-IDF vectorizer\n",
        "vectorizer = TfidfVectorizer()\n",
        "\n",
        "# Apply TF-IDF vectorization to the text data\n",
        "X_train_tfidf = vectorizer.fit_transform(X_train)\n",
        "\n",
        "# Apply SMOTE to balance the dataset\n",
        "smote = SMOTE(sampling_strategy='auto', random_state=42)\n",
        "X_resampled, y_resampled = smote.fit_resample(X_train_tfidf, y_train)\n",
        "\n",
        "# Split into training and testing sets (80% train, 20% test)\n",
        "X_train_resampled, X_test_resampled, y_train_resampled, y_test_resampled = train_test_split(\n",
        "    X_resampled, y_resampled, test_size=0.2, random_state=42)\n",
        "\n",
        "# Create individual classifiers\n",
        "lr_classifier = LogisticRegression(random_state=42)\n",
        "rf_classifier = RandomForestClassifier(random_state=42)\n",
        "\n",
        "# Create a Voting Classifier with soft voting\n",
        "voting_classifier = VotingClassifier(estimators=[\n",
        "    ('logistic_regression', lr_classifier),\n",
        "    ('random_forest', rf_classifier)\n",
        "], voting='soft')\n",
        "\n",
        "# Fit the Voting Classifier to the resampled training data\n",
        "voting_classifier.fit(X_train_resampled, y_train_resampled)\n",
        "\n",
        "# Predict on the resampled test 44data\n",
        "y_pred_resampled = voting_classifier.predict(X_test_resampled)\n",
        "\n",
        "# Calculate accuracy on the resampled test data\n",
        "accuracy_resampled = accuracy_score(y_test_resampled, y_pred_resampled)\n",
        "print('Accuracy on resampled test data:', accuracy_resampled)\n",
        "\n",
        "# Transform the text data in the testing dataset using the same vectorizer\n",
        "test_df = pd.read_csv(\"test_dataset.csv\", sep='\\t')\n",
        "X_test_tfidf = vectorizer.transform(test_df['text'])\n",
        "\n",
        "# Make predictions on the original testing data\n",
        "predictions = voting_classifier.predict(X_test_tfidf)\n",
        "\n",
        "# Print classification report\n",
        "print('Classification Report:')\n",
        "print(classification_report(test_df['target'], predictions))\n"
      ]
    },
    {
      "cell_type": "markdown",
      "metadata": {
        "id": "Mvp59m2l-0F7"
      },
      "source": [
        "saving"
      ]
    },
    {
      "cell_type": "code",
      "execution_count": 50,
      "metadata": {
        "colab": {
          "base_uri": "https://localhost:8080/"
        },
        "id": "opEhguPy-t1V",
        "outputId": "9027abc2-4f3b-4687-bd38-2c92c752f1dc"
      },
      "outputs": [
        {
          "name": "stdout",
          "output_type": "stream",
          "text": [
            "Accuracy on resampled test data: 0.9937845303867403\n",
            "Classification Report:\n",
            "              precision    recall  f1-score   support\n",
            "\n",
            "           0       0.99      0.99      0.99       896\n",
            "           1       0.96      0.92      0.94       136\n",
            "\n",
            "    accuracy                           0.98      1032\n",
            "   macro avg       0.97      0.96      0.97      1032\n",
            "weighted avg       0.98      0.98      0.98      1032\n",
            "\n"
          ]
        }
      ],
      "source": [
        "import pandas as pd\n",
        "from sklearn.model_selection import train_test_split\n",
        "from sklearn.feature_extraction.text import TfidfVectorizer\n",
        "from sklearn.ensemble import RandomForestClassifier, VotingClassifier\n",
        "from sklearn.linear_model import LogisticRegression\n",
        "from sklearn.metrics import accuracy_score, classification_report\n",
        "from imblearn.over_sampling import SMOTE\n",
        "import joblib  # Import joblib for model saving\n",
        "\n",
        "# Load the training dataset\n",
        "train_df = pd.read_csv(\"train_dataset.csv\", sep='\\t')\n",
        "\n",
        "# Separate features (X) and target labels (y)\n",
        "X_train = train_df['text']\n",
        "y_train = train_df['target']\n",
        "\n",
        "# Create a TF-IDF vectorizer\n",
        "vectorizer = TfidfVectorizer()\n",
        "\n",
        "# Apply TF-IDF vectorization to the text data\n",
        "X_train_tfidf = vectorizer.fit_transform(X_train)\n",
        "\n",
        "# Apply SMOTE to balance the dataset\n",
        "smote = SMOTE(sampling_strategy='auto', random_state=42)\n",
        "X_resampled, y_resampled = smote.fit_resample(X_train_tfidf, y_train)\n",
        "\n",
        "# Split into training and testing sets (80% train, 20% test)\n",
        "X_train_resampled, X_test_resampled, y_train_resampled, y_test_resampled = train_test_split(\n",
        "    X_resampled, y_resampled, test_size=0.2, random_state=42)\n",
        "\n",
        "# Create individual classifiers\n",
        "lr_classifier = LogisticRegression(random_state=42)\n",
        "rf_classifier = RandomForestClassifier(random_state=42)\n",
        "\n",
        "# Create a Voting Classifier with soft voting\n",
        "voting_classifier = VotingClassifier(estimators=[\n",
        "    ('logistic_regression', lr_classifier),\n",
        "    ('random_forest', rf_classifier)\n",
        "], voting='soft')\n",
        "\n",
        "# Fit the Voting Classifier to the resampled training data\n",
        "voting_classifier.fit(X_train_resampled, y_train_resampled)\n",
        "\n",
        "# Save the TF-IDF vectorizer and the trained model\n",
        "joblib.dump(vectorizer, \"tfidf_vectorizer_model.joblib\")\n",
        "joblib.dump(voting_classifier, \"voting_classifier_model.joblib\")\n",
        "\n",
        "# Adjust the decision threshold\n",
        "voting_classifier.threshold = 0.6  # Adjust the threshold as needed\n",
        "\n",
        "# Predict on the resampled test data\n",
        "y_pred_resampled = voting_classifier.predict(X_test_resampled)\n",
        "\n",
        "# Calculate accuracy on the resampled test data\n",
        "accuracy_resampled = accuracy_score(y_test_resampled, y_pred_resampled)\n",
        "print('Accuracy on resampled test data:', accuracy_resampled)\n",
        "\n",
        "# Transform the text data in the testing dataset using the same vectorizer\n",
        "test_df = pd.read_csv(\"test_dataset.csv\", sep='\\t')\n",
        "X_test_tfidf = vectorizer.transform(test_df['text'])\n",
        "\n",
        "# Make predictions on the original testing data\n",
        "predictions = voting_classifier.predict(X_test_tfidf)\n",
        "\n",
        "# Print classification report\n",
        "print('Classification Report:')\n",
        "print(classification_report(test_df['target'], predictions))\n"
      ]
    },
    {
      "cell_type": "code",
      "execution_count": 51,
      "metadata": {
        "colab": {
          "base_uri": "https://localhost:8080/"
        },
        "id": "CjxW3ozv8tkW",
        "outputId": "c3963674-b41b-4137-d9ff-567de9177185"
      },
      "outputs": [],
      "source": [
        "# !pip install joblib"
      ]
    },
    {
      "cell_type": "code",
      "execution_count": 52,
      "metadata": {
        "colab": {
          "base_uri": "https://localhost:8080/"
        },
        "id": "pcUhi9V78tuT",
        "outputId": "361dcb0a-d473-4264-ff44-dc1207fc33df"
      },
      "outputs": [
        {
          "name": "stdout",
          "output_type": "stream",
          "text": [
            "Message: Hey, just wanted to check in and see how you're doing. Let's catch up soon!, Predicted: ham\n",
            "Message: You've won a free vacation! Click here to claim your prize., Predicted: spam\n",
            "Message: URGENT: Your account has been compromised. Please click the link to secure it., Predicted: ham\n",
            "Message: Congratulations! You've been selected for a special offer. Claim now!, Predicted: spam\n",
            "Message: Meeting at 2 PM in the conference room. Please be on time., Predicted: ham\n",
            "Message: You have a package waiting for you at the post office. Visit us to collect it., Predicted: ham\n",
            "Message: Exclusive limited-time offer: Buy one, get one free!, Predicted: ham\n",
            "Message: Reminder: Your subscription will expire soon. Renew now to continue access., Predicted: ham\n",
            "Message: Click the link to participate in our survey and win exciting prizes!, Predicted: ham\n",
            "Message: Important update: Your flight has been rescheduled. Check the details here., Predicted: ham\n",
            "Message: Your entry has won a cash prize! Click here to claim., Predicted: spam\n",
            "Message: Don't miss out on this amazing opportunity. Act now!, Predicted: ham\n",
            "Message: URGENT: Your account needs verification. Click the link to confirm., Predicted: ham\n",
            "Message: Limited-time offer: 50% off on all purchases. Shop now!, Predicted: ham\n",
            "Message: Congratulations! You're the winner of our weekly giveaway., Predicted: ham\n",
            "Message: Important security update: Change your password immediately., Predicted: ham\n",
            "Message: Get a free trial of our premium service. Sign up today!, Predicted: spam\n",
            "Message: You've been selected for a special promotion. Redeem your reward., Predicted: ham\n",
            "Message: Meeting at 3 PM in the main lobby. Attendees, please be on time., Predicted: ham\n",
            "Message: Reminder: Your subscription renewal is due. Renew now to continue., Predicted: ham\n"
          ]
        }
      ],
      "source": [
        "import joblib\n",
        "\n",
        "def classify_text(message, threshold=0.5):\n",
        "    # Load the saved TF-IDF vectorizer and Voting Classifier\n",
        "    vectorizer = joblib.load(\"tfidf_vectorizer_model.joblib\")\n",
        "    voting_classifier = joblib.load(\"voting_classifier_model.joblib\")\n",
        "\n",
        "    # Preprocess the new message\n",
        "    preprocessed_message = vectorizer.transform([message])\n",
        "\n",
        "    # Use the loaded Voting Classifier for prediction\n",
        "    predicted_prob = voting_classifier.predict_proba(preprocessed_message)[:, 1]\n",
        "\n",
        "    # Apply the threshold to make the final prediction\n",
        "    predicted_class = 1 if predicted_prob > threshold else 0\n",
        "\n",
        "    # Return the result\n",
        "    return \"spam\" if predicted_class == 1 else \"ham\"\n",
        "\n",
        "# List of test messages\n",
        "test_samples = [\n",
        "    \"Hey, just wanted to check in and see how you're doing. Let's catch up soon!\",\n",
        "    \"You've won a free vacation! Click here to claim your prize.\",\n",
        "    \"URGENT: Your account has been compromised. Please click the link to secure it.\",\n",
        "    \"Congratulations! You've been selected for a special offer. Claim now!\",\n",
        "    \"Meeting at 2 PM in the conference room. Please be on time.\",\n",
        "    \"You have a package waiting for you at the post office. Visit us to collect it.\",\n",
        "    \"Exclusive limited-time offer: Buy one, get one free!\",\n",
        "    \"Reminder: Your subscription will expire soon. Renew now to continue access.\",\n",
        "    \"Click the link to participate in our survey and win exciting prizes!\",\n",
        "    \"Important update: Your flight has been rescheduled. Check the details here.\",\n",
        "    \"Your entry has won a cash prize! Click here to claim.\",\n",
        "    \"Don't miss out on this amazing opportunity. Act now!\",\n",
        "    \"URGENT: Your account needs verification. Click the link to confirm.\",\n",
        "    \"Limited-time offer: 50% off on all purchases. Shop now!\",\n",
        "    \"Congratulations! You're the winner of our weekly giveaway.\",\n",
        "    \"Important security update: Change your password immediately.\",\n",
        "    \"Get a free trial of our premium service. Sign up today!\",\n",
        "    \"You've been selected for a special promotion. Redeem your reward.\",\n",
        "    \"Meeting at 3 PM in the main lobby. Attendees, please be on time.\",\n",
        "    \"Reminder: Your subscription renewal is due. Renew now to continue.\",\n",
        "]\n",
        "\n",
        "# Test the function on the list of messages\n",
        "for message in test_samples:\n",
        "    result = classify_text(message)\n",
        "    print(f\"Message: {message}, Predicted: {result}\")\n"
      ]
    },
    {
      "cell_type": "code",
      "execution_count": 53,
      "metadata": {
        "colab": {
          "base_uri": "https://localhost:8080/"
        },
        "id": "5Fz0hy2VCLcS",
        "outputId": "fe78cdb4-eba9-48fd-be35-5f3efb091f5a"
      },
      "outputs": [
        {
          "name": "stdout",
          "output_type": "stream",
          "text": [
            "Message: You're the winner of a brand new car! Click to claim your prize., Predicted: spam\n",
            "Message: Important security update: Your password has been reset. Click to confirm., Predicted: ham\n",
            "Message: Free trial offer: Experience our premium services at no cost. Sign up now!, Predicted: spam\n",
            "Message: Exclusive deal: Buy one, get one free on all products. Limited stock!, Predicted: ham\n",
            "Message: Your entry has been selected for a luxury vacation. Click to redeem your reward., Predicted: spam\n",
            "Message: URGENT: Your bank account has been suspended. Click to verify your identity., Predicted: ham\n",
            "Message: Special invitation: Join us for an exclusive event. RSVP now!, Predicted: ham\n",
            "Message: Congratulations! You've won a cash prize. Click to claim your winnings., Predicted: spam\n",
            "Message: Reminder: Your subscription will auto-renew soon. Update your preferences., Predicted: ham\n",
            "Message: Get 50% off on your next purchase. Limited-time offer. Shop now!, Predicted: ham\n"
          ]
        }
      ],
      "source": [
        "# Additional test samples\n",
        "additional_samples = [\n",
        "    \"You're the winner of a brand new car! Click to claim your prize.\",\n",
        "    \"Important security update: Your password has been reset. Click to confirm.\",\n",
        "    \"Free trial offer: Experience our premium services at no cost. Sign up now!\",\n",
        "    \"Exclusive deal: Buy one, get one free on all products. Limited stock!\",\n",
        "    \"Your entry has been selected for a luxury vacation. Click to redeem your reward.\",\n",
        "    \"URGENT: Your bank account has been suspended. Click to verify your identity.\",\n",
        "    \"Special invitation: Join us for an exclusive event. RSVP now!\",\n",
        "    \"Congratulations! You've won a cash prize. Click to claim your winnings.\",\n",
        "    \"Reminder: Your subscription will auto-renew soon. Update your preferences.\",\n",
        "    \"Get 50% off on your next purchase. Limited-time offer. Shop now!\",\n",
        "]\n",
        "\n",
        "# Test the function on the additional list of messages\n",
        "for message in additional_samples:\n",
        "    result = classify_text(message)\n",
        "    print(f\"Message: {message}, Predicted: {result}\")\n"
      ]
    },
    {
      "cell_type": "code",
      "execution_count": 54,
      "metadata": {
        "colab": {
          "base_uri": "https://localhost:8080/",
          "height": 36
        },
        "id": "GkxUPLtQCLYK",
        "outputId": "3ec31874-9a72-490d-8365-491b2d763688"
      },
      "outputs": [
        {
          "data": {
            "text/plain": [
              "'ham'"
            ]
          },
          "execution_count": 54,
          "metadata": {},
          "output_type": "execute_result"
        }
      ],
      "source": [
        "classify_text(\"Hi Pranav Batki, We recently launched a deep integration with Keras! Check out this short video walking through the details with François Chollet (Keras founder) and Meg Risdal (Kaggle Product Manager).\")\n"
      ]
    },
    {
      "cell_type": "code",
      "execution_count": 55,
      "metadata": {
        "id": "69Q3WIjiCLTS"
      },
      "outputs": [],
      "source": [
        "#   http://127.0.0.1:5000/\n",
        "\n",
        "## paste this in ur browser to run"
      ]
    },
    {
      "cell_type": "code",
      "execution_count": null,
      "metadata": {
        "id": "e4Low5pvCLQD"
      },
      "outputs": [],
      "source": []
    },
    {
      "cell_type": "code",
      "execution_count": null,
      "metadata": {
        "id": "KlAi3Yy2CLLj"
      },
      "outputs": [],
      "source": []
    }
  ],
  "metadata": {
    "colab": {
      "provenance": []
    },
    "kernelspec": {
      "display_name": "Python 3",
      "name": "python3"
    },
    "language_info": {
      "codemirror_mode": {
        "name": "ipython",
        "version": 3
      },
      "file_extension": ".py",
      "mimetype": "text/x-python",
      "name": "python",
      "nbconvert_exporter": "python",
      "pygments_lexer": "ipython3",
      "version": "3.9.13"
    }
  },
  "nbformat": 4,
  "nbformat_minor": 0
}
